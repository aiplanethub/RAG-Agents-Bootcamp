{
  "nbformat": 4,
  "nbformat_minor": 0,
  "metadata": {
    "colab": {
      "provenance": []
    },
    "kernelspec": {
      "name": "python3",
      "display_name": "Python 3"
    },
    "language_info": {
      "name": "python"
    }
  },
  "cells": [
    {
      "cell_type": "markdown",
      "source": [
        "### Installation\n",
        "\n",
        "After the installation is done, make sure to restart the session on Google Colab"
      ],
      "metadata": {
        "id": "1YrNqzllox0p"
      }
    },
    {
      "cell_type": "code",
      "execution_count": null,
      "metadata": {
        "id": "el4_OdxO-18B"
      },
      "outputs": [],
      "source": [
        "!pip install openagi"
      ]
    },
    {
      "cell_type": "code",
      "source": [
        "from openagi.agent import Admin\n",
        "from openagi.llms.openai import OpenAIModel\n",
        "from openagi.memory import Memory\n",
        "from openagi.planner.task_decomposer import TaskPlanner\n",
        "from openagi.worker import Worker"
      ],
      "metadata": {
        "id": "-OET82Bj-6Iz"
      },
      "execution_count": 2,
      "outputs": []
    },
    {
      "cell_type": "markdown",
      "source": [
        "### Get your OpenAI API key"
      ],
      "metadata": {
        "id": "F9oVEA1_o_wi"
      }
    },
    {
      "cell_type": "code",
      "source": [
        "import os\n",
        "from getpass import getpass\n",
        "\n",
        "os.environ[\"OPENAI_API_KEY\"] = getpass(\"Enter your OpenAI key:\")"
      ],
      "metadata": {
        "id": "imaZI-oiA7Am",
        "colab": {
          "base_uri": "https://localhost:8080/"
        },
        "outputId": "ae531d57-6fa4-4d60-913c-398c2b6b2fef"
      },
      "execution_count": 1,
      "outputs": [
        {
          "name": "stdout",
          "output_type": "stream",
          "text": [
            "Enter your OpenAI key:··········\n"
          ]
        }
      ]
    },
    {
      "cell_type": "markdown",
      "source": [
        "### Configure the Large Language Model\n",
        "\n",
        "Documentation of another supported LLMs: [openagi.aiplanet.com/llms](https://openagi.aiplanet.com/components/llm)\n",
        "\n",
        "Note: Its recommended to have OpenAI or Azure OpenAI for better quality"
      ],
      "metadata": {
        "id": "qc5Ps99cpNpY"
      }
    },
    {
      "cell_type": "code",
      "source": [
        "config = OpenAIModel.load_from_env_config()\n",
        "llm = OpenAIModel(config=config)"
      ],
      "metadata": {
        "id": "3WUgwj2o-6Ti"
      },
      "execution_count": 3,
      "outputs": []
    },
    {
      "cell_type": "markdown",
      "source": [
        "### Multi-Agent Architecture\n",
        "\n",
        "**Define Workers**\n",
        "\n",
        "Workers are special type of classes, responsible for carrying out the tasks assigned by the class \"Admin\". They utilize tools such as internet search engines, LLMs, and document writers to perform their tasks. Additionally, they can determine which tools to use from a predefined set."
      ],
      "metadata": {
        "id": "Nd3JIciiqixn"
      }
    },
    {
      "cell_type": "code",
      "source": [
        "from openagi.actions.files import WriteFileAction, ReadFileAction\n",
        "from openagi.actions.tools.ddg_search import DuckDuckGoSearch\n",
        "from openagi.actions.tools.webloader import WebBaseContextTool"
      ],
      "metadata": {
        "id": "uqpC3dueq0i3",
        "colab": {
          "base_uri": "https://localhost:8080/"
        },
        "outputId": "e6f07f2b-2ef7-4709-aa42-5c0112982eeb"
      },
      "execution_count": 4,
      "outputs": [
        {
          "output_type": "stream",
          "name": "stderr",
          "text": [
            "[nltk_data] Downloading package punkt to /root/nltk_data...\n",
            "[nltk_data]   Unzipping tokenizers/punkt.zip.\n"
          ]
        }
      ]
    },
    {
      "cell_type": "markdown",
      "source": [
        "Similarly to how a large task like writing a blog is decomposed into smaller steps such as researching, drafting, and publishing, the admin can define a large task and split it into smaller tasks that are then assigned to the workers.\n",
        "\n",
        "\n",
        "The primary components, ``TaskWorker``, provide a structured way to define and execute tasks. ``The TaskWorker`` class specializes in executing specific tasks assigned by the planner."
      ],
      "metadata": {
        "id": "u_ZXewAsq7cs"
      }
    },
    {
      "cell_type": "code",
      "source": [
        "feedback_collector = Worker(\n",
        "        role=\"Customer Feedback Collector\",\n",
        "        instructions=\"Gather customer feedback specifically about AirPods Pro from various online platforms, including social media, review sites, and forums. Focus on identifying common themes and sentiments related to this product.\",\n",
        "        actions=[DuckDuckGoSearch, WebBaseContextTool, WriteFileAction],\n",
        "    )\n",
        "\n",
        "data_analyst = Worker(\n",
        "    role=\"Data Analyst\",\n",
        "    instructions=\"Analyze the collected customer feedback data related to AirPods Pro to identify key trends, recurring issues, and overall customer sentiment. Use statistical tools to quantify the data and provide actionable insights.\",\n",
        "    actions=[ReadFileAction, DuckDuckGoSearch, WebBaseContextTool, WriteFileAction],\n",
        ")\n",
        "\n",
        "report_creator = Worker(\n",
        "    role=\"Report Creator\",\n",
        "    instructions=\"Develop a comprehensive customer feedback analysis report based on the data analysis for AirPods Pro. Highlight key findings, trends, and recommendations for improving the product. Ensure the report is well-structured and visually appealing.\",\n",
        "    actions=[ReadFileAction, DuckDuckGoSearch, WebBaseContextTool, WriteFileAction],\n",
        ")"
      ],
      "metadata": {
        "id": "Xpsk2cDMCQU6"
      },
      "execution_count": 5,
      "outputs": []
    },
    {
      "cell_type": "markdown",
      "source": [
        "### Define Admin Agent\n",
        "\n",
        "Imagine Admin as the master task executor who is responsible for all the major configurations for the execution. From planning of tasks to execution, and defining the brain which is what LLM to use and whether or not to use memory.\n",
        "\n",
        "Admin is the decision-maker that understand the specifications of tasks and execute them in a more human-like manner."
      ],
      "metadata": {
        "id": "I1i79JsmrMd5"
      }
    },
    {
      "cell_type": "code",
      "source": [
        "admin = Admin(\n",
        "        actions=[DuckDuckGoSearch],\n",
        "        planner=TaskPlanner(human_intervene=False),\n",
        "        memory=Memory(),\n",
        "        llm=llm,\n",
        "    )\n",
        "admin.assign_workers([feedback_collector, data_analyst, report_creator])"
      ],
      "metadata": {
        "id": "Mkb_xoBGCWJl"
      },
      "execution_count": 6,
      "outputs": []
    },
    {
      "cell_type": "markdown",
      "source": [
        "## Run the Admin\n",
        "\n",
        "Check your directory, all the Workers tasks results is saved inside ``Log files``.\n",
        "\n",
        "Once the execution is completed, it will save the results of the Report Creator Agent inside the txt file."
      ],
      "metadata": {
        "id": "v1iWlnyjrVuY"
      }
    },
    {
      "cell_type": "code",
      "source": [
        "res = admin.run(\n",
        "        query=\"Create a customer feedback analysis report for AirPods Pro.\",\n",
        "        description=\"Collect and analyze customer feedback specifically for AirPods Pro from multiple online sources. Identify common themes, recurring issues, and overall customer sentiment. Develop a comprehensive report that provides actionable insights and recommendations for improving the AirPods Pro. Ensure the report is detailed, well-organized, and visually appealing.\",\n",
        "    )"
      ],
      "metadata": {
        "id": "6DvO1pjRCXzT",
        "colab": {
          "base_uri": "https://localhost:8080/"
        },
        "outputId": "f6436755-b968-4509-941d-7df07451688c"
      },
      "execution_count": null,
      "outputs": [
        {
          "output_type": "stream",
          "name": "stderr",
          "text": [
            "/usr/local/lib/python3.10/dist-packages/langchain_core/_api/deprecation.py:119: LangChainDeprecationWarning: The method `BaseChatModel.__call__` was deprecated in langchain-core 0.1.7 and will be removed in 0.3.0. Use invoke instead.\n",
            "  warn_deprecated(\n"
          ]
        },
        {
          "output_type": "stream",
          "name": "stdout",
          "text": [
            "\n",
            "\n",
            "Tasks: [{'task_name': 'Collect Feedback Data', 'description': 'Use DuckDuckGoSearch to search for customer feedback about AirPods Pro from various online platforms like social media, review sites, and forums. Focus on identifying common themes and sentiments related to this product. Gather URLs and relevant data from the search results.', 'worker_id': '4da8ee85733e40f6bcc949b174f2ac77'}, {'task_name': 'Extract Web Content', 'description': 'Use WebBaseContextTool to load and summarize the content from the URLs collected in the previous task. Extract actual context, metadata and page content as a context string from each URL.', 'worker_id': '4da8ee85733e40f6bcc949b174f2ac77'}, {'task_name': 'Write Feedback Data to File', 'description': 'Use WriteFileAction to write the content extracted in the previous task to a file. This file will store all the summarized customer feedback for later analysis.', 'worker_id': '4da8ee85733e40f6bcc949b174f2ac77'}, {'task_name': 'Analyze Feedback Data', 'description': 'Use ReadFileAction to read the file created in the previous task containing summarized customer feedback. Analyze this data to identify key trends, recurring issues, and overall customer sentiment.', 'worker_id': 'a75fbcac217747e7846658d24c0ad69d'}, {'task_name': 'Write Analysis Results to File', 'description': 'Use WriteFileAction to write the analysis results from the previous task to a new file. This file will include quantified data and actionable insights.', 'worker_id': 'a75fbcac217747e7846658d24c0ad69d'}, {'task_name': 'Read Analysis Results', 'description': 'Use ReadFileAction to read the analysis results file created in the previous task. This data will be used to develop the comprehensive feedback analysis report.', 'worker_id': '3fc1a8da42294f83b6bce7e45322bbea'}, {'task_name': 'Create Feedback Analysis Report', 'description': 'Develop a comprehensive, detailed, and visually appealing customer feedback analysis report based on the data read in the previous task. Highlight key findings, trends, and provide recommendations for improving AirPods Pro.', 'worker_id': '3fc1a8da42294f83b6bce7e45322bbea'}]\n",
            "\n",
            "\n"
          ]
        },
        {
          "output_type": "stream",
          "name": "stderr",
          "text": [
            "/root/.cache/chroma/onnx_models/all-MiniLM-L6-v2/onnx.tar.gz: 100%|██████████| 79.3M/79.3M [00:02<00:00, 40.5MiB/s]\n",
            "WARNING:root:No Tasks to summarize.\n",
            "WARNING:chromadb.segment.impl.vector.local_persistent_hnsw:Number of requested results 10 is greater than number of elements in index 7, updating n_results = 7\n",
            "WARNING:root:No Tasks to summarize.\n",
            "ERROR:root:Error running action: 'title'\n",
            "WARNING:chromadb.segment.impl.vector.local_persistent_hnsw:Number of requested results 10 is greater than number of elements in index 7, updating n_results = 7\n",
            "WARNING:chromadb.segment.impl.vector.local_persistent_hnsw:Number of requested results 10 is greater than number of elements in index 7, updating n_results = 7\n",
            "WARNING:root:No Tasks to summarize.\n",
            "WARNING:chromadb.segment.impl.vector.local_persistent_hnsw:Number of requested results 10 is greater than number of elements in index 7, updating n_results = 7\n",
            "WARNING:chromadb.segment.impl.vector.local_persistent_hnsw:Number of requested results 10 is greater than number of elements in index 7, updating n_results = 7\n",
            "WARNING:chromadb.segment.impl.vector.local_persistent_hnsw:Number of requested results 10 is greater than number of elements in index 7, updating n_results = 7\n",
            "WARNING:root:No Tasks to summarize.\n",
            "WARNING:chromadb.segment.impl.vector.local_persistent_hnsw:Number of requested results 10 is greater than number of elements in index 7, updating n_results = 7\n",
            "WARNING:chromadb.segment.impl.vector.local_persistent_hnsw:Number of requested results 10 is greater than number of elements in index 7, updating n_results = 7\n",
            "WARNING:chromadb.segment.impl.vector.local_persistent_hnsw:Number of requested results 10 is greater than number of elements in index 7, updating n_results = 7\n",
            "WARNING:chromadb.segment.impl.vector.local_persistent_hnsw:Number of requested results 10 is greater than number of elements in index 7, updating n_results = 7\n",
            "WARNING:root:No Tasks to summarize.\n"
          ]
        }
      ]
    },
    {
      "cell_type": "code",
      "source": [
        "!ls"
      ],
      "metadata": {
        "id": "SfmMKYUbCiw1",
        "colab": {
          "base_uri": "https://localhost:8080/"
        },
        "outputId": "0584b0e4-1a44-4f10-ce36-3a0fe3107ab7"
      },
      "execution_count": 11,
      "outputs": [
        {
          "output_type": "stream",
          "name": "stdout",
          "text": [
            "AirPodsPro_AnalysisResults.txt\t f4c0bd8917724eabae857bc81ca91d90  sample_data\n",
            "AirPodsPro_CustomerFeedback.txt  logs\n"
          ]
        }
      ]
    },
    {
      "cell_type": "code",
      "source": [
        "with open(\"AirPodsPro_CustomerFeedback.txt\",\"r\") as f:\n",
        "    content = f.read()\n",
        "    print(content)"
      ],
      "metadata": {
        "colab": {
          "base_uri": "https://localhost:8080/"
        },
        "id": "Y7AruHaiW_Qj",
        "outputId": "17ce473a-3ca9-40a2-8bdb-8e1bc934abe8"
      },
      "execution_count": 12,
      "outputs": [
        {
          "output_type": "stream",
          "name": "stdout",
          "text": [
            "The Apple AirPods Pro has been praised for its superior noise cancellation abilities, enhanced audio performance, and the comfort of the in-ear fit. The charging case provides an additional 19 to 20 hours of battery life, although performance can vary with volume levels. Features such as ANC (Active Noise Cancellation) and Transparency Modes are effective in reducing ambient noise while allowing important environmental sounds, facilitating natural conversations. The audio performance is robust, featuring strong bass and clear highs, marking a significant improvement over the standard AirPods model. Customer feedback from review sites like Consumer Reports, The Verge, Engadget, and PCMag highlights praise for these improvements but also points out issues such as short battery life and reduced functionality on non-Apple devices.\n"
          ]
        }
      ]
    }
  ]
}