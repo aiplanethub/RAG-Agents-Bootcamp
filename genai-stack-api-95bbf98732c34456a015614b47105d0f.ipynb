{
  "cells": [
    {
      "cell_type": "code",
      "execution_count": null,
      "metadata": {
        "id": "YiL6eK2MA8VJ"
      },
      "outputs": [],
      "source": [
        "import requests"
      ]
    },
    {
      "cell_type": "markdown",
      "metadata": {},
      "source": [
        "## Deployed Stack\n",
        "\n",
        "Once you build your stack using the No-Code tool platform, you can deploy your app.\n",
        "\n",
        "After deploying the app, use the deployed URL. If your app contains any input variables or external data used for retrieval-augmented generation (RAG), add the file path within your project directory."
      ]
    },
    {
      "cell_type": "code",
      "execution_count": null,
      "metadata": {
        "id": "dqMc2J1yeezq"
      },
      "outputs": [],
      "source": [
        "DEPLOYED_URL = \"https://chat-with-pdf-e69a5be9.stack.app.aiplanet.com\"\n",
        "PDF_PATH = \"sample.pdf\"\n",
        "QUESTION = \"what is the total cooking time?\""
      ]
    },
    {
      "cell_type": "markdown",
      "metadata": {},
      "source": [
        "## Get your API Key\n",
        "\n",
        "Get your API key from here: [https://app.aiplanet.com/account/api-keys](https://app.aiplanet.com/account/api-keys)"
      ]
    },
    {
      "cell_type": "code",
      "execution_count": null,
      "metadata": {
        "colab": {
          "base_uri": "https://localhost:8080/"
        },
        "id": "dj9yMdBvBEwx",
        "outputId": "d092931e-610f-4d21-ae01-70db6d4c7e46"
      },
      "outputs": [
        {
          "name": "stdout",
          "output_type": "stream",
          "text": [
            "Enter Your GenAI stack API key: ··········\n"
          ]
        }
      ],
      "source": [
        "from getpass import getpass\n",
        "\n",
        "API_URL_PREFIX = f\"{DEPLOYED_URL}/api/v1/\"\n",
        "API_KEY = getpass(\"Enter Your GenAI stack API key: \") "
      ]
    },
    {
      "cell_type": "markdown",
      "metadata": {},
      "source": [
        "Documentation: [GenAI Stack API docs](https://docs.aiplanet.com/rest-apis/genai-stack-rest-apis)"
      ]
    },
    {
      "cell_type": "code",
      "execution_count": null,
      "metadata": {
        "id": "_tg7zFjKB_xu"
      },
      "outputs": [],
      "source": [
        "\"\"\" Defining header \"\"\"\n",
        "headers = {\"Authorization\": f\"Bearer {API_KEY}\"}"
      ]
    },
    {
      "cell_type": "code",
      "execution_count": null,
      "metadata": {
        "id": "YFysVmjgXNhb"
      },
      "outputs": [],
      "source": [
        "api_url = API_URL_PREFIX + \"apps\"\n",
        "response = requests.get(api_url, json={}, headers=headers)"
      ]
    },
    {
      "cell_type": "code",
      "execution_count": null,
      "metadata": {
        "colab": {
          "base_uri": "https://localhost:8080/"
        },
        "collapsed": true,
        "id": "RSrb-ShNdngH",
        "outputId": "331f9279-c782-4fe2-bb65-888f7ea6349e"
      },
      "outputs": [],
      "source": [
        "response.json()"
      ]
    },
    {
      "cell_type": "code",
      "execution_count": null,
      "metadata": {
        "id": "f8YIytMTXTQN"
      },
      "outputs": [],
      "source": [
        "FLOW_SERVER_APP_ID = response.json()['id']"
      ]
    },
    {
      "cell_type": "code",
      "execution_count": null,
      "metadata": {
        "id": "W849ssToFkfU"
      },
      "outputs": [],
      "source": [
        "\"\"\" Creating A New Chat Session \"\"\"\n",
        "api_url = API_URL_PREFIX + FLOW_SERVER_APP_ID + \"/chat-sessions\"\n",
        "response = requests.post(api_url, json={\"title\":\"Testing Chat Session\"}, headers=headers)"
      ]
    },
    {
      "cell_type": "code",
      "execution_count": null,
      "metadata": {
        "colab": {
          "base_uri": "https://localhost:8080/"
        },
        "id": "PPfDgYzactrw",
        "outputId": "7423069d-dcdd-4d7a-d3b0-3e9471e2929a"
      },
      "outputs": [
        {
          "data": {
            "text/plain": [
              "{'id': 'eb2e7f01-5102-4460-83fb-2a304970f2b5',\n",
              " 'title': 'Testing Chat Session',\n",
              " 'data': None}"
            ]
          },
          "execution_count": 88,
          "metadata": {},
          "output_type": "execute_result"
        }
      ],
      "source": [
        "response.json()"
      ]
    },
    {
      "cell_type": "code",
      "execution_count": null,
      "metadata": {
        "id": "KRTVNPU_dZus"
      },
      "outputs": [],
      "source": [
        "CHAT_SESSION_ID1 = response.json()['id']"
      ]
    },
    {
      "cell_type": "code",
      "execution_count": null,
      "metadata": {
        "id": "HQBFVEetjgMo"
      },
      "outputs": [],
      "source": [
        "api_url = API_URL_PREFIX + FLOW_SERVER_APP_ID + f\"/chat-sessions/{CHAT_SESSION_ID1}/uploads\"\n",
        "form_data = {\n",
        "    \"input_key\":\"file_path\"\n",
        "}\n",
        "\n",
        "# sample2 pdf is a document on cooking recipies\n",
        "file = {'file': (\"sample.pdf\", open(f'{PDF_PATH}','rb'), 'application/pdf')}\n",
        "response = requests.post(api_url, data=form_data, headers=headers, files=file)\n",
        "file['file'][1].close()"
      ]
    },
    {
      "cell_type": "code",
      "execution_count": null,
      "metadata": {
        "colab": {
          "base_uri": "https://localhost:8080/"
        },
        "id": "QmtwjFw_kEy_",
        "outputId": "eb4eb011-c4af-4069-ef44-8f1af70ef6e1"
      },
      "outputs": [
        {
          "data": {
            "text/plain": [
              "{'id': 'c61b4bf4-7d97-48d5-883d-76f2b85fba80',\n",
              " 'file': '/mnt/models/files/75579469-5cd2-47ec-a1e7-687f22d978ee/9090ea0d-a516-4951-8d78-8035081e60f4.pdf',\n",
              " 'url': '',\n",
              " 'text': '',\n",
              " 'chat_session_id': 'eb2e7f01-5102-4460-83fb-2a304970f2b5',\n",
              " 'created_at': '2024-06-04T09:04:56.985112',\n",
              " 'meta_data': {'filename': 'sample.pdf', 'file_size': 133867},\n",
              " 'data_pipeline_status': 'queued',\n",
              " 'data_pipeline': {'id': 'f13398a4-9c78-484e-8a13-5d736463c986',\n",
              "  'input_key': 'file_path',\n",
              "  'meta_data': {'fileTypes': ['pdf'], 'suffixes': ['.pdf']},\n",
              "  'created_at': '2024-05-28T17:49:03.645192'}}"
            ]
          },
          "execution_count": 91,
          "metadata": {},
          "output_type": "execute_result"
        }
      ],
      "source": [
        "response.json()"
      ]
    },
    {
      "cell_type": "code",
      "execution_count": null,
      "metadata": {
        "id": "WspuoGUvd6by"
      },
      "outputs": [],
      "source": [
        "ID = response.json()['id']\n",
        "CHAT_SESSION_ID2 = response.json()['chat_session_id']"
      ]
    },
    {
      "cell_type": "code",
      "execution_count": null,
      "metadata": {
        "id": "2SUFVkxPsVns"
      },
      "outputs": [],
      "source": [
        "api_url = API_URL_PREFIX + FLOW_SERVER_APP_ID + f\"/chat-sessions/{CHAT_SESSION_ID2}/uploads/{ID}\"\n",
        "response = requests.get(api_url, json={}, headers=headers)"
      ]
    },
    {
      "cell_type": "code",
      "execution_count": null,
      "metadata": {
        "colab": {
          "base_uri": "https://localhost:8080/"
        },
        "id": "gE3XXRtxsdfN",
        "outputId": "6b16ea10-cbe2-4db0-e121-f0ef7eee499d"
      },
      "outputs": [
        {
          "data": {
            "text/plain": [
              "{'id': 'c61b4bf4-7d97-48d5-883d-76f2b85fba80',\n",
              " 'file': '/mnt/models/files/75579469-5cd2-47ec-a1e7-687f22d978ee/9090ea0d-a516-4951-8d78-8035081e60f4.pdf',\n",
              " 'url': '',\n",
              " 'text': '',\n",
              " 'chat_session_id': 'eb2e7f01-5102-4460-83fb-2a304970f2b5',\n",
              " 'created_at': '2024-06-04T09:04:56.985112',\n",
              " 'meta_data': {'filename': 'sample.pdf', 'file_size': 133867},\n",
              " 'data_pipeline_status': 'running',\n",
              " 'data_pipeline': {'id': 'f13398a4-9c78-484e-8a13-5d736463c986',\n",
              "  'input_key': 'file_path',\n",
              "  'meta_data': {'fileTypes': ['pdf'], 'suffixes': ['.pdf']},\n",
              "  'created_at': '2024-05-28T17:49:03.645192'}}"
            ]
          },
          "execution_count": 94,
          "metadata": {},
          "output_type": "execute_result"
        }
      ],
      "source": [
        "response.json()"
      ]
    },
    {
      "cell_type": "code",
      "execution_count": null,
      "metadata": {
        "id": "OlrIYT59eMzi"
      },
      "outputs": [],
      "source": [
        "CHAT_SESSION_ID3 = response.json()['chat_session_id']"
      ]
    },
    {
      "cell_type": "code",
      "execution_count": null,
      "metadata": {
        "id": "p25n9yyYkWSd"
      },
      "outputs": [],
      "source": [
        "api_url = API_URL_PREFIX + FLOW_SERVER_APP_ID + f\"/chat-sessions/{CHAT_SESSION_ID3}\"\n",
        "data={\n",
        "    \"chatKey\": \"question\",\n",
        "    \"inputs\":{\n",
        "        \"question\":f\"{QUESTION}\"\n",
        "    }\n",
        "}\n",
        "\n",
        "response = requests.post(api_url, json=data, headers=headers)"
      ]
    },
    {
      "cell_type": "code",
      "execution_count": null,
      "metadata": {
        "id": "KqoIZydAkd8k"
      },
      "outputs": [],
      "source": [
        "text_response = response.text"
      ]
    },
    {
      "cell_type": "code",
      "execution_count": null,
      "metadata": {
        "id": "81hhIehZstap"
      },
      "outputs": [],
      "source": [
        "import json\n",
        "\n",
        "response_objs = []\n",
        "start = 0\n",
        "for index, character in enumerate(text_response):\n",
        "  if text_response[index] == \"{\" and text_response[index:index+10] == '{\"is_bot\":':\n",
        "    start = index\n",
        "  elif text_response[index] == \"}\" and text_response[index-11:index+1] == '\"files\": []}':\n",
        "    response_objs.append(json.loads(text_response[start:index+1]))"
      ]
    },
    {
      "cell_type": "code",
      "execution_count": null,
      "metadata": {
        "colab": {
          "base_uri": "https://localhost:8080/",
          "height": 35
        },
        "id": "T6-k7NWRvODI",
        "outputId": "21e25431-a957-4e5b-93fb-0f95d5363563"
      },
      "outputs": [
        {
          "data": {
            "application/vnd.google.colaboratory.intrinsic+json": {
              "type": "string"
            },
            "text/plain": [
              "'The total cooking time is 20 minutes.'"
            ]
          },
          "execution_count": 99,
          "metadata": {},
          "output_type": "execute_result"
        }
      ],
      "source": [
        "response_objs[-1].get(\"message\")"
      ]
    }
  ],
  "metadata": {
    "colab": {
      "provenance": []
    },
    "kernelspec": {
      "display_name": "Python 3",
      "name": "python3"
    },
    "language_info": {
      "name": "python"
    }
  },
  "nbformat": 4,
  "nbformat_minor": 0
}
