{
  "nbformat": 4,
  "nbformat_minor": 0,
  "metadata": {
    "colab": {
      "provenance": []
    },
    "kernelspec": {
      "name": "python3",
      "display_name": "Python 3"
    },
    "language_info": {
      "name": "python"
    }
  },
  "cells": [
    {
      "cell_type": "markdown",
      "source": [
        "### Installation\n",
        "\n",
        "After the installation is done, make sure to restart the session on Google Colab"
      ],
      "metadata": {
        "id": "1YrNqzllox0p"
      }
    },
    {
      "cell_type": "code",
      "execution_count": null,
      "metadata": {
        "id": "el4_OdxO-18B"
      },
      "outputs": [],
      "source": [
        "!pip install openagi"
      ]
    },
    {
      "cell_type": "code",
      "source": [
        "from openagi.agent import Admin\n",
        "from openagi.llms import OpenAIModel\n",
        "from openagi.memory import Memory\n",
        "from openagi.planner.task_decomposer import TaskPlanner\n",
        "from openagi.worker import Worker"
      ],
      "metadata": {
        "id": "-OET82Bj-6Iz"
      },
      "execution_count": null,
      "outputs": []
    },
    {
      "cell_type": "markdown",
      "source": [
        "### Get your OpenAI API key"
      ],
      "metadata": {
        "id": "F9oVEA1_o_wi"
      }
    },
    {
      "cell_type": "code",
      "source": [
        "import os\n",
        "from getpass import getpass\n",
        "\n",
        "os.environ[\"OPENAI_API_KEY\"] = getpass(\"Enter your OpenAI key:\")"
      ],
      "metadata": {
        "id": "imaZI-oiA7Am",
        "colab": {
          "base_uri": "https://localhost:8080/"
        },
        "outputId": "7ecc4bb2-2cef-46af-9cc6-bfc053ed42e0"
      },
      "execution_count": null,
      "outputs": [
        {
          "name": "stdout",
          "output_type": "stream",
          "text": [
            "Enter your OpenAI key:··········\n"
          ]
        }
      ]
    },
    {
      "cell_type": "markdown",
      "source": [
        "### Configure the Large Language Model\n",
        "\n",
        "Documentation of another supported LLMs: [openagi.aiplanet.com/llms](https://openagi.aiplanet.com/components/llm)\n",
        "\n",
        "Note: Its recommended to have OpenAI or Azure OpenAI for better quality"
      ],
      "metadata": {
        "id": "qc5Ps99cpNpY"
      }
    },
    {
      "cell_type": "code",
      "source": [
        "config = OpenAIModel.load_from_env_config()\n",
        "llm = OpenAIModel(config=config)"
      ],
      "metadata": {
        "id": "3WUgwj2o-6Ti"
      },
      "execution_count": null,
      "outputs": []
    },
    {
      "cell_type": "markdown",
      "source": [
        "### Multi-Agent Architecture\n",
        "\n",
        "**Define Workers**\n",
        "\n",
        "Workers are special type of classes, responsible for carrying out the tasks assigned by the class \"Admin\". They utilize tools such as internet search engines, LLMs, and document writers to perform their tasks. Additionally, they can determine which tools to use from a predefined set."
      ],
      "metadata": {
        "id": "Nd3JIciiqixn"
      }
    },
    {
      "cell_type": "code",
      "source": [
        "from openagi.actions.files import WriteFileAction, ReadFileAction\n",
        "from openagi.actions.tools.ddg_search import DuckDuckGoSearch\n",
        "from openagi.actions.tools.webloader import WebBaseContextTool"
      ],
      "metadata": {
        "id": "uqpC3dueq0i3"
      },
      "execution_count": null,
      "outputs": []
    },
    {
      "cell_type": "markdown",
      "source": [
        "Similarly to how a large task like writing a blog is decomposed into smaller steps such as researching, drafting, and publishing, the admin can define a large task and split it into smaller tasks that are then assigned to the workers.\n",
        "\n",
        "\n",
        "The primary components, ``TaskWorker``, provide a structured way to define and execute tasks. ``The TaskWorker`` class specializes in executing specific tasks assigned by the planner."
      ],
      "metadata": {
        "id": "u_ZXewAsq7cs"
      }
    },
    {
      "cell_type": "code",
      "source": [
        "feedback_collector = Worker(\n",
        "        role=\"Customer Feedback Collector\",\n",
        "        instructions=\"Gather customer feedback specifically about AirPods Pro from various online platforms, including social media, review sites, and forums. Focus on identifying common themes and sentiments related to this product.\",\n",
        "        actions=[DuckDuckGoSearch, WebBaseContextTool, WriteFileAction],\n",
        "    )\n",
        "\n",
        "data_analyst = Worker(\n",
        "    role=\"Data Analyst\",\n",
        "    instructions=\"Analyze the collected customer feedback data related to AirPods Pro to identify key trends, recurring issues, and overall customer sentiment. Use statistical tools to quantify the data and provide actionable insights.\",\n",
        "    actions=[ReadFileAction, DuckDuckGoSearch, WebBaseContextTool, WriteFileAction],\n",
        ")\n",
        "\n",
        "report_creator = Worker(\n",
        "    role=\"Report Creator\",\n",
        "    instructions=\"Develop a comprehensive customer feedback analysis report based on the data analysis for AirPods Pro. Highlight key findings, trends, and recommendations for improving the product. Ensure the report is well-structured and visually appealing.\",\n",
        "    actions=[ReadFileAction, DuckDuckGoSearch, WebBaseContextTool, WriteFileAction],\n",
        ")"
      ],
      "metadata": {
        "id": "Xpsk2cDMCQU6"
      },
      "execution_count": null,
      "outputs": []
    },
    {
      "cell_type": "markdown",
      "source": [
        "### Define Admin Agent\n",
        "\n",
        "Imagine Admin as the master task executor who is responsible for all the major configurations for the execution. From planning of tasks to execution, and defining the brain which is what LLM to use and whether or not to use memory.\n",
        "\n",
        "Admin is the decision-maker that understand the specifications of tasks and execute them in a more human-like manner."
      ],
      "metadata": {
        "id": "I1i79JsmrMd5"
      }
    },
    {
      "cell_type": "code",
      "source": [
        "admin = Admin(\n",
        "        actions=[DuckDuckGoSearch],\n",
        "        planner=TaskPlanner(human_intervene=False),\n",
        "        memory=Memory(),\n",
        "        llm=llm,\n",
        "    )\n",
        "admin.assign_workers([feedback_collector, data_analyst, report_creator])"
      ],
      "metadata": {
        "id": "Mkb_xoBGCWJl"
      },
      "execution_count": null,
      "outputs": []
    },
    {
      "cell_type": "markdown",
      "source": [
        "## Run the Admin"
      ],
      "metadata": {
        "id": "v1iWlnyjrVuY"
      }
    },
    {
      "cell_type": "code",
      "source": [
        "res = admin.run(\n",
        "        query=\"Create a customer feedback analysis report for AirPods Pro.\",\n",
        "        description=\"Collect and analyze customer feedback specifically for AirPods Pro from multiple online sources. Identify common themes, recurring issues, and overall customer sentiment. Develop a comprehensive report that provides actionable insights and recommendations for improving the AirPods Pro. Ensure the report is detailed, well-organized, and visually appealing.\",\n",
        "    )"
      ],
      "metadata": {
        "id": "6DvO1pjRCXzT"
      },
      "execution_count": null,
      "outputs": []
    },
    {
      "cell_type": "code",
      "source": [
        "print(res)"
      ],
      "metadata": {
        "id": "SfmMKYUbCiw1"
      },
      "execution_count": null,
      "outputs": []
    }
  ]
}